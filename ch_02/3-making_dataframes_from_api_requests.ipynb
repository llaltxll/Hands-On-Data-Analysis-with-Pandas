{
 "cells": [
  {
   "cell_type": "markdown",
   "metadata": {},
   "source": [
    "# Making Pandas DataFrames from API Requests\n",
    "In this example, we will use the U.S. Geological Survey's API to grab a JSON object of earthquake data and convert it to a pandas DataFrame.\n",
    "\n",
    "USGS API: https://earthquake.usgs.gov/fdsnws/event/1/"
   ]
  },
  {
   "cell_type": "markdown",
   "metadata": {},
   "source": [
    "### Get Data from API"
   ]
  },
  {
   "cell_type": "code",
   "execution_count": 1,
   "metadata": {},
   "outputs": [
    {
     "name": "stdout",
     "output_type": "stream",
     "text": [
      "200\n"
     ]
    }
   ],
   "source": [
    "import datetime\n",
    "import pandas as pd\n",
    "import requests\n",
    "\n",
    "yesterday = datetime.date.today() - datetime.timedelta(days=1)\n",
    "api = 'https://earthquake.usgs.gov/fdsnws/event/1/query'\n",
    "payload = {\n",
    "    'format' : 'geojson',\n",
    "    'starttime' : yesterday - datetime.timedelta(days=26),\n",
    "    'endtime' : yesterday\n",
    "}\n",
    "response = requests.get(api, params=payload)\n",
    "\n",
    "# let's make sure the request was OK\n",
    "print(response.status_code)"
   ]
  },
  {
   "cell_type": "markdown",
   "metadata": {},
   "source": [
    "Response of 200 means OK, so we can pull the data out of the result. Since we asked the API for a JSON, we can extract it from the response with the JSON method."
   ]
  },
  {
   "cell_type": "markdown",
   "metadata": {},
   "source": [
    "### Isolate the Data from the JSON Response\n",
    "We need to check the structures of the response data to know where our data is."
   ]
  },
  {
   "cell_type": "code",
   "execution_count": 2,
   "metadata": {},
   "outputs": [
    {
     "data": {
      "text/plain": [
       "dict_keys(['type', 'metadata', 'features', 'bbox'])"
      ]
     },
     "execution_count": 2,
     "metadata": {},
     "output_type": "execute_result"
    }
   ],
   "source": [
    "earthquake_json = response.json()\n",
    "earthquake_json.keys()"
   ]
  },
  {
   "cell_type": "code",
   "execution_count": 3,
   "metadata": {},
   "outputs": [
    {
     "data": {
      "text/plain": [
       "{'generated': 1751722769000,\n",
       " 'url': 'https://earthquake.usgs.gov/fdsnws/event/1/query?format=geojson&starttime=2025-06-08&endtime=2025-07-04',\n",
       " 'title': 'USGS Earthquakes',\n",
       " 'status': 200,\n",
       " 'api': '1.14.1',\n",
       " 'count': 8466}"
      ]
     },
     "execution_count": 3,
     "metadata": {},
     "output_type": "execute_result"
    }
   ],
   "source": [
    "earthquake_json['metadata']"
   ]
  },
  {
   "cell_type": "markdown",
   "metadata": {},
   "source": [
    "Each element in the JSON array `features` is a row of data for our dataframe."
   ]
  },
  {
   "cell_type": "code",
   "execution_count": 4,
   "metadata": {},
   "outputs": [
    {
     "data": {
      "text/plain": [
       "list"
      ]
     },
     "execution_count": 4,
     "metadata": {},
     "output_type": "execute_result"
    }
   ],
   "source": [
    "type(earthquake_json['features'])"
   ]
  },
  {
   "cell_type": "markdown",
   "metadata": {},
   "source": [
    "Your data will be different depending on the date you run this."
   ]
  },
  {
   "cell_type": "code",
   "execution_count": 5,
   "metadata": {},
   "outputs": [
    {
     "data": {
      "text/plain": [
       "{'type': 'Feature',\n",
       " 'properties': {'mag': 0.71,\n",
       "  'place': '8 km WNW of Cobb, CA',\n",
       "  'time': 1751587044680,\n",
       "  'updated': 1751587142559,\n",
       "  'tz': None,\n",
       "  'url': 'https://earthquake.usgs.gov/earthquakes/eventpage/nc75204211',\n",
       "  'detail': 'https://earthquake.usgs.gov/fdsnws/event/1/query?eventid=nc75204211&format=geojson',\n",
       "  'felt': None,\n",
       "  'cdi': None,\n",
       "  'mmi': None,\n",
       "  'alert': None,\n",
       "  'status': 'automatic',\n",
       "  'tsunami': 0,\n",
       "  'sig': 8,\n",
       "  'net': 'nc',\n",
       "  'code': '75204211',\n",
       "  'ids': ',nc75204211,',\n",
       "  'sources': ',nc,',\n",
       "  'types': ',nearby-cities,origin,phase-data,',\n",
       "  'nst': 14,\n",
       "  'dmin': 0.01378,\n",
       "  'rms': 0.01,\n",
       "  'gap': 59,\n",
       "  'magType': 'md',\n",
       "  'type': 'earthquake',\n",
       "  'title': 'M 0.7 - 8 km WNW of Cobb, CA'},\n",
       " 'geometry': {'type': 'Point',\n",
       "  'coordinates': [-122.811164855957, 38.8371658325195, 1.85000002384186]},\n",
       " 'id': 'nc75204211'}"
      ]
     },
     "execution_count": 5,
     "metadata": {},
     "output_type": "execute_result"
    }
   ],
   "source": [
    "earthquake_json['features'][0]"
   ]
  },
  {
   "cell_type": "markdown",
   "metadata": {},
   "source": [
    "### Convert to DataFrame\n",
    "We need to grab the `properties` section out of every entry in the `features` JSON array to create our dataframe."
   ]
  },
  {
   "cell_type": "code",
   "execution_count": 6,
   "metadata": {},
   "outputs": [
    {
     "data": {
      "text/html": [
       "<div>\n",
       "<style scoped>\n",
       "    .dataframe tbody tr th:only-of-type {\n",
       "        vertical-align: middle;\n",
       "    }\n",
       "\n",
       "    .dataframe tbody tr th {\n",
       "        vertical-align: top;\n",
       "    }\n",
       "\n",
       "    .dataframe thead th {\n",
       "        text-align: right;\n",
       "    }\n",
       "</style>\n",
       "<table border=\"1\" class=\"dataframe\">\n",
       "  <thead>\n",
       "    <tr style=\"text-align: right;\">\n",
       "      <th></th>\n",
       "      <th>alert</th>\n",
       "      <th>cdi</th>\n",
       "      <th>code</th>\n",
       "      <th>detail</th>\n",
       "      <th>dmin</th>\n",
       "      <th>felt</th>\n",
       "      <th>gap</th>\n",
       "      <th>ids</th>\n",
       "      <th>mag</th>\n",
       "      <th>magType</th>\n",
       "      <th>...</th>\n",
       "      <th>sources</th>\n",
       "      <th>status</th>\n",
       "      <th>time</th>\n",
       "      <th>title</th>\n",
       "      <th>tsunami</th>\n",
       "      <th>type</th>\n",
       "      <th>types</th>\n",
       "      <th>tz</th>\n",
       "      <th>updated</th>\n",
       "      <th>url</th>\n",
       "    </tr>\n",
       "  </thead>\n",
       "  <tbody>\n",
       "    <tr>\n",
       "      <th>0</th>\n",
       "      <td>None</td>\n",
       "      <td>NaN</td>\n",
       "      <td>75204211</td>\n",
       "      <td>https://earthquake.usgs.gov/fdsnws/event/1/que...</td>\n",
       "      <td>0.01378</td>\n",
       "      <td>NaN</td>\n",
       "      <td>59.0</td>\n",
       "      <td>,nc75204211,</td>\n",
       "      <td>0.71</td>\n",
       "      <td>md</td>\n",
       "      <td>...</td>\n",
       "      <td>,nc,</td>\n",
       "      <td>automatic</td>\n",
       "      <td>1751587044680</td>\n",
       "      <td>M 0.7 - 8 km WNW of Cobb, CA</td>\n",
       "      <td>0</td>\n",
       "      <td>earthquake</td>\n",
       "      <td>,nearby-cities,origin,phase-data,</td>\n",
       "      <td>None</td>\n",
       "      <td>1751587142559</td>\n",
       "      <td>https://earthquake.usgs.gov/earthquakes/eventp...</td>\n",
       "    </tr>\n",
       "    <tr>\n",
       "      <th>1</th>\n",
       "      <td>None</td>\n",
       "      <td>NaN</td>\n",
       "      <td>2025mztjkv</td>\n",
       "      <td>https://earthquake.usgs.gov/fdsnws/event/1/que...</td>\n",
       "      <td>0.00000</td>\n",
       "      <td>NaN</td>\n",
       "      <td>106.0</td>\n",
       "      <td>,tx2025mztjkv,</td>\n",
       "      <td>1.20</td>\n",
       "      <td>ml</td>\n",
       "      <td>...</td>\n",
       "      <td>,tx,</td>\n",
       "      <td>automatic</td>\n",
       "      <td>1751586762405</td>\n",
       "      <td>M 1.2 - 53 km SSW of Whites City, New Mexico</td>\n",
       "      <td>0</td>\n",
       "      <td>earthquake</td>\n",
       "      <td>,origin,phase-data,</td>\n",
       "      <td>None</td>\n",
       "      <td>1751587263766</td>\n",
       "      <td>https://earthquake.usgs.gov/earthquakes/eventp...</td>\n",
       "    </tr>\n",
       "    <tr>\n",
       "      <th>2</th>\n",
       "      <td>None</td>\n",
       "      <td>NaN</td>\n",
       "      <td>75204206</td>\n",
       "      <td>https://earthquake.usgs.gov/fdsnws/event/1/que...</td>\n",
       "      <td>0.01051</td>\n",
       "      <td>NaN</td>\n",
       "      <td>60.0</td>\n",
       "      <td>,nc75204206,</td>\n",
       "      <td>1.02</td>\n",
       "      <td>md</td>\n",
       "      <td>...</td>\n",
       "      <td>,nc,</td>\n",
       "      <td>automatic</td>\n",
       "      <td>1751586557620</td>\n",
       "      <td>M 1.0 - 7 km WNW of Cobb, CA</td>\n",
       "      <td>0</td>\n",
       "      <td>earthquake</td>\n",
       "      <td>,nearby-cities,origin,phase-data,</td>\n",
       "      <td>None</td>\n",
       "      <td>1751586654103</td>\n",
       "      <td>https://earthquake.usgs.gov/earthquakes/eventp...</td>\n",
       "    </tr>\n",
       "    <tr>\n",
       "      <th>3</th>\n",
       "      <td>None</td>\n",
       "      <td>NaN</td>\n",
       "      <td>2025mztemw</td>\n",
       "      <td>https://earthquake.usgs.gov/fdsnws/event/1/que...</td>\n",
       "      <td>0.10000</td>\n",
       "      <td>NaN</td>\n",
       "      <td>64.0</td>\n",
       "      <td>,tx2025mztemw,</td>\n",
       "      <td>1.20</td>\n",
       "      <td>ml</td>\n",
       "      <td>...</td>\n",
       "      <td>,tx,</td>\n",
       "      <td>reviewed</td>\n",
       "      <td>1751586403566</td>\n",
       "      <td>M 1.2 - 29 km SW of Garden City, Texas</td>\n",
       "      <td>0</td>\n",
       "      <td>earthquake</td>\n",
       "      <td>,origin,phase-data,</td>\n",
       "      <td>None</td>\n",
       "      <td>1751623733404</td>\n",
       "      <td>https://earthquake.usgs.gov/earthquakes/eventp...</td>\n",
       "    </tr>\n",
       "    <tr>\n",
       "      <th>4</th>\n",
       "      <td>None</td>\n",
       "      <td>NaN</td>\n",
       "      <td>41013895</td>\n",
       "      <td>https://earthquake.usgs.gov/fdsnws/event/1/que...</td>\n",
       "      <td>0.01720</td>\n",
       "      <td>NaN</td>\n",
       "      <td>26.0</td>\n",
       "      <td>,ci41013895,</td>\n",
       "      <td>1.09</td>\n",
       "      <td>ml</td>\n",
       "      <td>...</td>\n",
       "      <td>,ci,</td>\n",
       "      <td>automatic</td>\n",
       "      <td>1751586190420</td>\n",
       "      <td>M 1.1 - 4 km NW of San Jacinto, CA</td>\n",
       "      <td>0</td>\n",
       "      <td>earthquake</td>\n",
       "      <td>,nearby-cities,origin,phase-data,scitech-link,</td>\n",
       "      <td>None</td>\n",
       "      <td>1751586401167</td>\n",
       "      <td>https://earthquake.usgs.gov/earthquakes/eventp...</td>\n",
       "    </tr>\n",
       "  </tbody>\n",
       "</table>\n",
       "<p>5 rows × 26 columns</p>\n",
       "</div>"
      ],
      "text/plain": [
       "  alert  cdi        code                                             detail  \\\n",
       "0  None  NaN    75204211  https://earthquake.usgs.gov/fdsnws/event/1/que...   \n",
       "1  None  NaN  2025mztjkv  https://earthquake.usgs.gov/fdsnws/event/1/que...   \n",
       "2  None  NaN    75204206  https://earthquake.usgs.gov/fdsnws/event/1/que...   \n",
       "3  None  NaN  2025mztemw  https://earthquake.usgs.gov/fdsnws/event/1/que...   \n",
       "4  None  NaN    41013895  https://earthquake.usgs.gov/fdsnws/event/1/que...   \n",
       "\n",
       "      dmin  felt    gap             ids   mag magType  \\\n",
       "0  0.01378   NaN   59.0    ,nc75204211,  0.71      md   \n",
       "1  0.00000   NaN  106.0  ,tx2025mztjkv,  1.20      ml   \n",
       "2  0.01051   NaN   60.0    ,nc75204206,  1.02      md   \n",
       "3  0.10000   NaN   64.0  ,tx2025mztemw,  1.20      ml   \n",
       "4  0.01720   NaN   26.0    ,ci41013895,  1.09      ml   \n",
       "\n",
       "                         ...                          sources     status  \\\n",
       "0                        ...                             ,nc,  automatic   \n",
       "1                        ...                             ,tx,  automatic   \n",
       "2                        ...                             ,nc,  automatic   \n",
       "3                        ...                             ,tx,   reviewed   \n",
       "4                        ...                             ,ci,  automatic   \n",
       "\n",
       "            time                                         title  tsunami  \\\n",
       "0  1751587044680                  M 0.7 - 8 km WNW of Cobb, CA        0   \n",
       "1  1751586762405  M 1.2 - 53 km SSW of Whites City, New Mexico        0   \n",
       "2  1751586557620                  M 1.0 - 7 km WNW of Cobb, CA        0   \n",
       "3  1751586403566        M 1.2 - 29 km SW of Garden City, Texas        0   \n",
       "4  1751586190420            M 1.1 - 4 km NW of San Jacinto, CA        0   \n",
       "\n",
       "         type                                           types    tz  \\\n",
       "0  earthquake               ,nearby-cities,origin,phase-data,  None   \n",
       "1  earthquake                             ,origin,phase-data,  None   \n",
       "2  earthquake               ,nearby-cities,origin,phase-data,  None   \n",
       "3  earthquake                             ,origin,phase-data,  None   \n",
       "4  earthquake  ,nearby-cities,origin,phase-data,scitech-link,  None   \n",
       "\n",
       "         updated                                                url  \n",
       "0  1751587142559  https://earthquake.usgs.gov/earthquakes/eventp...  \n",
       "1  1751587263766  https://earthquake.usgs.gov/earthquakes/eventp...  \n",
       "2  1751586654103  https://earthquake.usgs.gov/earthquakes/eventp...  \n",
       "3  1751623733404  https://earthquake.usgs.gov/earthquakes/eventp...  \n",
       "4  1751586401167  https://earthquake.usgs.gov/earthquakes/eventp...  \n",
       "\n",
       "[5 rows x 26 columns]"
      ]
     },
     "execution_count": 6,
     "metadata": {},
     "output_type": "execute_result"
    }
   ],
   "source": [
    "earthquake_properties_data = [data['properties'] for data in earthquake_json['features']]\n",
    "df = pd.DataFrame(earthquake_properties_data)\n",
    "df.head()"
   ]
  },
  {
   "cell_type": "markdown",
   "metadata": {},
   "source": [
    "### (Optional) Write Data to CSV"
   ]
  },
  {
   "cell_type": "code",
   "execution_count": 7,
   "metadata": {},
   "outputs": [],
   "source": [
    "pd.DataFrame(earthquake_properties_data).to_csv('earthquakes.csv', index=False)"
   ]
  },
  {
   "cell_type": "code",
   "execution_count": null,
   "metadata": {},
   "outputs": [],
   "source": []
  }
 ],
 "metadata": {
  "kernelspec": {
   "display_name": "Python [conda env:py37_handson_pandas]",
   "language": "python",
   "name": "conda-env-py37_handson_pandas-py"
  },
  "language_info": {
   "codemirror_mode": {
    "name": "ipython",
    "version": 3
   },
   "file_extension": ".py",
   "mimetype": "text/x-python",
   "name": "python",
   "nbconvert_exporter": "python",
   "pygments_lexer": "ipython3",
   "version": "3.7.16"
  }
 },
 "nbformat": 4,
 "nbformat_minor": 4
}
