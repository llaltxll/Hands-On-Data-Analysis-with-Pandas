{
 "cells": [
  {
   "cell_type": "markdown",
   "id": "ae03c796-3918-4405-8341-4d32e658c299",
   "metadata": {},
   "source": [
    "### Find the percentage of earthquakes in Indonesia that were coupled with tsunamis."
   ]
  },
  {
   "cell_type": "code",
   "execution_count": 1,
   "id": "f2653ae3-184a-40a4-aa9c-633389f41737",
   "metadata": {},
   "outputs": [],
   "source": [
    "import pandas as pd"
   ]
  },
  {
   "cell_type": "code",
   "execution_count": 2,
   "id": "b894e573-df01-4e42-90a2-8a81a7ab8698",
   "metadata": {},
   "outputs": [
    {
     "name": "stdout",
     "output_type": "stream",
     "text": [
      "<class 'pandas.core.frame.DataFrame'>\n",
      "RangeIndex: 9332 entries, 0 to 9331\n",
      "Data columns (total 2 columns):\n",
      " #   Column        Non-Null Count  Dtype \n",
      "---  ------        --------------  ----- \n",
      " 0   tsunami       9332 non-null   int64 \n",
      " 1   parsed_place  9332 non-null   object\n",
      "dtypes: int64(1), object(1)\n",
      "memory usage: 145.9+ KB\n"
     ]
    }
   ],
   "source": [
    "df_quakes = pd.read_csv(\"../data/parsed.csv\", usecols=['tsunami', 'parsed_place'])\n",
    "df_quakes.info()"
   ]
  },
  {
   "cell_type": "code",
   "execution_count": 3,
   "id": "e736adca-33dd-4d3c-83c7-dab32be5a216",
   "metadata": {},
   "outputs": [
    {
     "data": {
      "text/plain": [
       "array(['California', 'Dominican Republic', 'Alaska', 'Indonesia',\n",
       "       'Canada', 'Puerto Rico', 'Montana', 'Nevada', 'Christmas Island',\n",
       "       'Hawaii', 'Northern Mariana Islands', 'Japan', 'Ecuador',\n",
       "       'Vanuatu', 'Mexico', 'Russia', 'British Virgin Islands',\n",
       "       'Washington', 'Papua New Guinea', 'Fiji', 'U.S. Virgin Islands',\n",
       "       'Chile', 'Peru', 'Yemen', 'Guatemala', 'Kansas', 'Australia',\n",
       "       'Wyoming', 'Kuril Islands', 'Oklahoma', 'Tennessee',\n",
       "       'Pacific-Antarctic Ridge', 'Utah', 'Colombia', 'Argentina',\n",
       "       'Oregon', 'Greece', 'Missouri', 'Tajikistan',\n",
       "       'Northern Mid-Atlantic Ridge', 'Sumatra', 'Solomon Islands',\n",
       "       'Burma', 'Taiwan', 'Nicaragua',\n",
       "       'South Georgia and South Sandwich Islands', 'Idaho', 'Kyrgyzstan',\n",
       "       'Arizona', 'Tonga', 'Northern East Pacific Rise', 'South Africa',\n",
       "       'Southern Mid-Atlantic Ridge', 'Costa Rica', 'China',\n",
       "       'Philippines', 'Haiti', 'Jamaica', 'Kentucky', 'New Zealand',\n",
       "       'Iran', 'Afghanistan', 'Southwest Indian Ridge', 'Saint Helena',\n",
       "       'Texas', 'New Caledonia', 'El Salvador',\n",
       "       'Central Mid-Atlantic Ridge', 'Western Xizang', 'Italy',\n",
       "       'Mid-Indian Ridge', 'Ascension Island', 'North Carolina',\n",
       "       'South Sandwich Islands', 'Saint Eustatius and Saba', 'Pakistan',\n",
       "       'Bolivia', 'Turkey', 'Indian Ocean Triple Junction', 'Mayotte',\n",
       "       'Queen Charlotte Islands', 'India', 'Arkansas', 'Guam',\n",
       "       'Uzbekistan', 'Prince Edward Islands', 'Martinique', 'Honduras',\n",
       "       'Southern East Pacific Rise', 'East Timor', 'Barbuda', 'Mauritius',\n",
       "       'Carlsberg Ridge', 'Greenland', 'Balleny Islands',\n",
       "       'Western Indian-Antarctic Ridge', 'South Carolina', 'Vermont',\n",
       "       'Romania', 'New Hampshire', 'Central East Pacific Rise',\n",
       "       'Southeast Indian Ridge', 'Kermadec Islands', 'Colorado',\n",
       "       'Illinois', 'Socotra', 'Azerbaijan', 'Iraq', 'Somalia',\n",
       "       'New Mexico'], dtype=object)"
      ]
     },
     "execution_count": 3,
     "metadata": {},
     "output_type": "execute_result"
    }
   ],
   "source": [
    "df_quakes.parsed_place.unique()"
   ]
  },
  {
   "cell_type": "code",
   "execution_count": 4,
   "id": "ea6b6a45-df07-4789-ac34-103e16e3ec77",
   "metadata": {},
   "outputs": [
    {
     "data": {
      "text/plain": [
       "0.23129251700680273"
      ]
     },
     "execution_count": 4,
     "metadata": {},
     "output_type": "execute_result"
    }
   ],
   "source": [
    "df_quakes[df_quakes.parsed_place == 'Indonesia'].tsunami.mean()"
   ]
  }
 ],
 "metadata": {
  "kernelspec": {
   "display_name": "book_env",
   "language": "python",
   "name": "book_env"
  },
  "language_info": {
   "codemirror_mode": {
    "name": "ipython",
    "version": 3
   },
   "file_extension": ".py",
   "mimetype": "text/x-python",
   "name": "python",
   "nbconvert_exporter": "python",
   "pygments_lexer": "ipython3",
   "version": "3.12.7"
  }
 },
 "nbformat": 4,
 "nbformat_minor": 5
}
